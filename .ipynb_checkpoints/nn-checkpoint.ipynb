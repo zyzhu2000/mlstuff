{
 "cells": [
  {
   "cell_type": "code",
   "execution_count": 1,
   "metadata": {},
   "outputs": [],
   "source": [
    "from sklearn.model_selection import KFold\n",
    "import itertools, time, datetime, functools\n",
    "from joblib import Parallel, delayed\n",
    "from sklearn.preprocessing import StandardScaler, MinMaxScaler\n",
    "from sklearn.pipeline import Pipeline\n",
    "from sklearn.feature_selection import SelectFromModel\n",
    "from sklearn.metrics import f1_score\n",
    "import sklearn.base\n",
    "\n",
    "from sklearn import tree\n",
    "import pickle as pkl\n",
    "\n",
    "from  classifiers import *\n",
    "from ann import *\n",
    "from credit_default import CreditDefault_ANN\n",
    "import mlrose_hiive as mr\n",
    "from mlrose_hiive.algorithms.decay import GeomDecay\n",
    "from loader import DataLoader\n",
    "from test_harness import run_grid\n"
   ]
  },
  {
   "cell_type": "code",
   "execution_count": null,
   "metadata": {},
   "outputs": [],
   "source": [
    "def load(filename):\n",
    "    with open(filename, 'rb') as f:\n",
    "        return pkl.load(filename)"
   ]
  }
 ],
 "metadata": {
  "kernelspec": {
   "display_name": "Python 3",
   "language": "python",
   "name": "python3"
  },
  "language_info": {
   "codemirror_mode": {
    "name": "ipython",
    "version": 3
   },
   "file_extension": ".py",
   "mimetype": "text/x-python",
   "name": "python",
   "nbconvert_exporter": "python",
   "pygments_lexer": "ipython3",
   "version": "3.7.9"
  }
 },
 "nbformat": 4,
 "nbformat_minor": 4
}
