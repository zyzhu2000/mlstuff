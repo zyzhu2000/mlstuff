{
 "cells": [
  {
   "cell_type": "code",
   "execution_count": 1,
   "metadata": {},
   "outputs": [],
   "source": [
    "from sklearn.model_selection import KFold\n",
    "import itertools, time, datetime, functools\n",
    "from joblib import Parallel, delayed\n",
    "from sklearn.preprocessing import StandardScaler, MinMaxScaler\n",
    "from sklearn.pipeline import Pipeline\n",
    "from sklearn.feature_selection import SelectFromModel\n",
    "from sklearn.metrics import f1_score\n",
    "import sklearn.base\n",
    "\n",
    "from sklearn import tree\n",
    "import pickle as pkl\n",
    "\n",
    "from  classifiers import *\n",
    "from ann import *\n",
    "from credit_default import CreditDefault_ANN\n",
    "import mlrose_hiive as mr\n",
    "from mlrose_hiive.algorithms.decay import GeomDecay\n",
    "from loader import DataLoader\n",
    "from test_harness import run_grid\n"
   ]
  },
  {
   "cell_type": "code",
   "execution_count": 4,
   "metadata": {},
   "outputs": [],
   "source": [
    "def load(filename):\n",
    "    with open(filename, 'rb') as f:\n",
    "        return pkl.load(f)"
   ]
  },
  {
   "cell_type": "code",
   "execution_count": 6,
   "metadata": {},
   "outputs": [],
   "source": [
    "ga = load('ga-max.pkl')\n",
    "sa = load('sa.pkl')\n",
    "rhc = load('rhc.pkl')\n",
    "gd = load('gd.pkl')"
   ]
  },
  {
   "cell_type": "code",
   "execution_count": 7,
   "metadata": {},
   "outputs": [],
   "source": [
    "def show_res(res):\n",
    "    keys, res2 = res\n",
    "    for k in res2:\n",
    "        print(k, res2[k][1], res2[k][2])"
   ]
  },
  {
   "cell_type": "code",
   "execution_count": 23,
   "metadata": {},
   "outputs": [
    {
     "name": "stdout",
     "output_type": "stream",
     "text": [
      "(0.5,) 0.439330934915666 0.437570303712036\n",
      "(1,) 0.6611257854678002 0.6532789727221535\n",
      "(2,) 0.6367980906718621 0.6367926055426056\n",
      "(2.5,) 0.526851863633429 0.5429749113043112\n",
      "(3,) 0.5652543260392631 0.5638931968086099\n",
      "(0.05,) 0.6308768516574497 0.61657203307498\n",
      "(0.1,) 0.6512016303246771 0.6366898182947974\n",
      "(0.2,) 0.6694598025980465 0.6600270664441787\n",
      "(0.3,) 0.670630597461563 0.6648222087628411\n",
      "(0.4,) 0.6757749712973593 0.6620464962173506\n",
      "(0.5,) 0.6437888341934883 0.6322018592388244\n",
      "(1, 0.8) 0.607502924668428 0.5986063612863863\n",
      "(1, 0.9) 0.588180217944941 0.5718584917286635\n",
      "(1, 0.99) 0.6186963373055872 0.616128526162589\n",
      "(1, 0.999) 0.5437981961961351 0.5529796014368799\n",
      "(2, 0.8) 0.5945241853224001 0.590476894275298\n",
      "(2, 0.9) 0.5896018215832217 0.5739964012233297\n",
      "(2, 0.99) 0.6509109666267759 0.6344963694600179\n",
      "(2, 0.999) 0.4824396203628349 0.49795809659090906\n",
      "(5, 0.8) 0.577894058065592 0.5643155440602862\n",
      "(5, 0.9) 0.5749026908659668 0.5690314373489451\n",
      "(5, 0.99) 0.6500594715757143 0.6448458676522177\n",
      "(5, 0.999) 0.5395128907024278 0.5383501297447348\n",
      "(10, 0.8) 0.577894058065592 0.5643155440602862\n",
      "(10, 0.9) 0.5847792577147902 0.5742269710215315\n",
      "(10, 0.99) 0.6247646114211116 0.6153148248956631\n",
      "(10, 0.999) 0.5854369012797941 0.6038514254203148\n",
      "(0.4,) 0.6757749712973593 0.6620464962173506\n",
      "(0.45,) 0.6783911644528836 0.6749588281182283\n",
      "(0.5,) 0.6437888341934883 0.6322018592388244\n",
      "(0.55,) 0.6778499598633153 0.6647393662319036\n",
      "(0.6,) 0.6582295450971954 0.6498176133402813\n"
     ]
    }
   ],
   "source": [
    "show_res(ga)\n",
    "show_res(gd)\n",
    "show_res(sa)\n",
    "show_res(rhc)"
   ]
  },
  {
   "cell_type": "code",
   "execution_count": 33,
   "metadata": {},
   "outputs": [],
   "source": [
    "mga = ga[1][(1.,)][0]\n",
    "mgd = gd[1][(0.4,)][0]\n",
    "msa = sa[1][(1,0.8)][0]\n",
    "mrhc = rhc [1][(0.45,)][0]"
   ]
  },
  {
   "cell_type": "code",
   "execution_count": 34,
   "metadata": {},
   "outputs": [
    {
     "data": {
      "text/plain": [
       "<matplotlib.legend.Legend at 0x226a3a2cf48>"
      ]
     },
     "execution_count": 34,
     "metadata": {},
     "output_type": "execute_result"
    },
    {
     "data": {
      "image/png": "[encoded data removed]",
      "text/plain": [
       "<Figure size 432x288 with 1 Axes>"
      ]
     },
     "metadata": {
      "needs_background": "light"
     },
     "output_type": "display_data"
    }
   ],
   "source": [
    "plt.plot(mga.fitness_curve, label='GA')\n",
    "plt.plot(mgd.fitness_curve, label='GD')\n",
    "plt.plot(msa.fitness_curve, label='SA')\n",
    "plt.plot(mrhc.fitness_curve, label='RHC')\n",
    "plt.legend()"
   ]
  }
 ],
 "metadata": {
  "kernelspec": {
   "display_name": "Python 3",
   "language": "python",
   "name": "python3"
  },
  "language_info": {
   "codemirror_mode": {
    "name": "ipython",
    "version": 3
   },
   "file_extension": ".py",
   "mimetype": "text/x-python",
   "name": "python",
   "nbconvert_exporter": "python",
   "pygments_lexer": "ipython3",
   "version": "3.7.9"
  }
 },
 "nbformat": 4,
 "nbformat_minor": 4
}
