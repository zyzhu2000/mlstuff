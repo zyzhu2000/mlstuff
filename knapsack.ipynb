{
 "cells": [
  {
   "cell_type": "code",
   "execution_count": null,
   "metadata": {},
   "outputs": [],
   "source": []
  },
  {
   "cell_type": "code",
   "execution_count": 1,
   "metadata": {},
   "outputs": [
    {
     "name": "stdout",
     "output_type": "stream",
     "text": [
      "The list is as follows:\n",
      "Item No.   Weight   Value\n",
      "1          4         585\n",
      "\n",
      "2          7         289\n",
      "\n",
      "3          9         174\n",
      "\n",
      "4          12         340\n",
      "\n",
      "5          9         447\n",
      "\n",
      "6          1         289\n",
      "\n",
      "7          12         43\n",
      "\n",
      "8          5         379\n",
      "\n",
      "9          7         663\n",
      "\n",
      "10          13         230\n",
      "\n"
     ]
    }
   ],
   "source": [
    "# https://medium.com/koderunners/genetic-algorithm-part-3-knapsack-problem-b59035ddd1d6\n",
    "\n",
    "import numpy as np\n",
    "import pandas as pd\n",
    "import random as rd\n",
    "from random import randint\n",
    "import matplotlib.pyplot as plt\n",
    "item_number = np.arange(1,11)\n",
    "weight = np.random.randint(1, 15, size = 10)\n",
    "value = np.random.randint(10, 750, size = 10)\n",
    "knapsack_threshold = 35    #Maximum weight that the bag of thief can hold \n",
    "print('The list is as follows:')\n",
    "print('Item No.   Weight   Value')\n",
    "for i in range(item_number.shape[0]):\n",
    "    print('{0}          {1}         {2}\\n'.format(item_number[i], weight[i], value[i]))"
   ]
  },
  {
   "attachments": {
    "image-2.png": {
     "image/png": "[encoded data removed]"
    },
    "image.png": {
     "image/png": "[encoded data removed]"
    }
   },
   "cell_type": "markdown",
   "metadata": {},
   "source": [
    "Now we declare the initial population. In this problem the idea of chromosome encoding is to have a chromosome consisting as many genes as there are total number of items such that each gene index corresponds to item index in the list. Each gene has a value 1 or 0 which tells whether the corresponding item is present or not.\n",
    "\n",
    "![image.png](attachment:image.png)\n",
    "\n",
    "![image-2.png](attachment:image-2.png)"
   ]
  },
  {
   "cell_type": "code",
   "execution_count": 2,
   "metadata": {},
   "outputs": [
    {
     "name": "stdout",
     "output_type": "stream",
     "text": [
      "Population size = (8, 10)\n",
      "Initial population: \n",
      "[[1 0 1 1 1 0 1 1 0 0]\n",
      " [0 0 0 0 0 1 0 0 0 1]\n",
      " [1 1 1 1 1 0 1 1 0 0]\n",
      " [0 1 0 1 0 0 0 1 0 0]\n",
      " [0 1 1 0 0 1 1 1 0 0]\n",
      " [1 0 1 1 0 1 1 1 0 1]\n",
      " [1 0 0 0 0 0 1 0 1 1]\n",
      " [0 1 1 0 0 0 1 0 0 1]]\n"
     ]
    }
   ],
   "source": [
    "solutions_per_pop = 8\n",
    "pop_size = (solutions_per_pop, item_number.shape[0])\n",
    "print('Population size = {}'.format(pop_size))\n",
    "initial_population = np.random.randint(2, size = pop_size)\n",
    "initial_population = initial_populaation.astype(int)\n",
    "num_generations = 50\n",
    "print('Initial population: \\n{}'.format(initial_population))"
   ]
  },
  {
   "cell_type": "code",
   "execution_count": 3,
   "metadata": {},
   "outputs": [],
   "source": [
    "def cal_fitness(weight, value, population, threshold):\n",
    "    fitness = np.empty(population.shape[0])\n",
    "    for i in range(population.shape[0]):\n",
    "        S1 = np.sum(population[i] * value)\n",
    "        S2 = np.sum(population[i] * weight)\n",
    "        if S2 <= threshold:\n",
    "            fitness[i] = S1\n",
    "        else :\n",
    "            fitness[i] = 0 \n",
    "    return fitness.astype(int)        "
   ]
  },
  {
   "cell_type": "code",
   "execution_count": 4,
   "metadata": {},
   "outputs": [],
   "source": [
    "def selection(fitness, num_parents, population):\n",
    "    fitness = list(fitness)\n",
    "    parents = np.empty((num_parents, population.shape[1]))\n",
    "    for i in range(num_parents):\n",
    "        max_fitness_idx = np.where(fitness == np.max(fitness))\n",
    "        parents[i,:] = population[max_fitness_idx[0][0], :]\n",
    "        fitness[max_fitness_idx[0][0]] = -999999\n",
    "    return parents"
   ]
  },
  {
   "cell_type": "code",
   "execution_count": 5,
   "metadata": {},
   "outputs": [],
   "source": [
    "def crossover(parents, num_offsprings):\n",
    "    offsprings = np.empty((num_offsprings, parents.shape[1]))\n",
    "    crossover_point = int(parents.shape[1]/2)\n",
    "    crossover_rate = 0.8\n",
    "    i=0\n",
    "    while (parents.shape[0] < num_offsprings):\n",
    "        parent1_index = i%parents.shape[0]\n",
    "        parent2_index = (i+1)%parents.shape[0]\n",
    "        x = rd.random()\n",
    "        if x > crossover_rate:\n",
    "            continue\n",
    "        parent1_index = i%parents.shape[0]\n",
    "        parent2_index = (i+1)%parents.shape[0]\n",
    "        offsprings[i,0:crossover_point] = parents[parent1_index,0:crossover_point]\n",
    "        offsprings[i,crossover_point:] = parents[parent2_index,crossover_point:]\n",
    "        i=+1\n",
    "    return offsprings    "
   ]
  },
  {
   "cell_type": "code",
   "execution_count": 6,
   "metadata": {},
   "outputs": [],
   "source": [
    "def mutation(offsprings):\n",
    "    mutants = np.empty((offsprings.shape))\n",
    "    mutation_rate = 0.4\n",
    "    for i in range(mutants.shape[0]):\n",
    "        random_value = rd.random()\n",
    "        mutants[i,:] = offsprings[i,:]\n",
    "        if random_value > mutation_rate:\n",
    "            continue\n",
    "        int_random_value = randint(0,offsprings.shape[1]-1)    \n",
    "        if mutants[i,int_random_value] == 0 :\n",
    "            mutants[i,int_random_value] = 1\n",
    "        else :\n",
    "            mutants[i,int_random_value] = 0\n",
    "    return mutants   "
   ]
  },
  {
   "cell_type": "code",
   "execution_count": 7,
   "metadata": {},
   "outputs": [],
   "source": [
    "def optimize(weight, value, population, pop_size, num_generations, threshold):\n",
    "    parameters, fitness_history = [], []\n",
    "    num_parents = int(pop_size[0]/2)\n",
    "    num_offsprings = pop_size[0] - num_parents \n",
    "    for i in range(num_generations):\n",
    "        fitness = cal_fitness(weight, value, population, threshold)\n",
    "        fitness_history.append(fitness)\n",
    "        parents = selection(fitness, num_parents, population)\n",
    "        offsprings = crossover(parents, num_offsprings)\n",
    "        mutants = mutation(offsprings)\n",
    "        population[0:parents.shape[0], :] = parents\n",
    "        population[parents.shape[0]:, :] = mutants\n",
    "        \n",
    "    print('Last generation: \\n{}\\n'.format(population)) \n",
    "    fitness_last_gen = cal_fitness(weight, value, population, threshold)      \n",
    "    print('Fitness of the last generation: \\n{}\\n'.format(fitness_last_gen))\n",
    "    max_fitness = np.where(fitness_last_gen == np.max(fitness_last_gen))\n",
    "    parameters.append(population[max_fitness[0][0],:])\n",
    "    return parameters, fitness_history"
   ]
  },
  {
   "cell_type": "code",
   "execution_count": 8,
   "metadata": {},
   "outputs": [
    {
     "name": "stdout",
     "output_type": "stream",
     "text": [
      "Last generation: \n",
      "[[1 1 0 1 0 0 0 1 1 0]\n",
      " [1 1 0 1 0 0 0 1 1 0]\n",
      " [1 1 0 1 0 0 0 1 1 0]\n",
      " [1 1 0 1 0 0 0 1 1 0]\n",
      " [1 1 0 1 0 0 0 1 1 0]\n",
      " [1 1 0 1 0 0 0 1 1 0]\n",
      " [1 1 1 1 0 0 0 1 1 0]\n",
      " [1 1 0 1 0 0 0 1 1 0]]\n",
      "\n",
      "Fitness of the last generation: \n",
      "[2256 2256 2256 2256 2256 2256    0 2256]\n",
      "\n",
      "The optimized parameters for the given inputs are: \n",
      "[array([1, 1, 0, 1, 0, 0, 0, 1, 1, 0])]\n",
      "\n",
      "Selected items that will maximize the knapsack without breaking it:\n",
      "1\n",
      "\n",
      "2\n",
      "\n",
      "4\n",
      "\n",
      "8\n",
      "\n",
      "9\n",
      "\n"
     ]
    }
   ],
   "source": [
    "\n",
    "parameters, fitness_history = optimize(weight, value, initial_population, pop_size, num_generations, knapsack_threshold)\n",
    "print('The optimized parameters for the given inputs are: \\n{}'.format(parameters))\n",
    "selected_items = item_number * parameters\n",
    "print('\\nSelected items that will maximize the knapsack without breaking it:')\n",
    "for i in range(selected_items.shape[1]):\n",
    "  if selected_items[0][i] != 0:\n",
    "     print('{}\\n'.format(selected_items[0][i]))"
   ]
  }
 ],
 "metadata": {
  "kernelspec": {
   "display_name": "Python 3",
   "language": "python",
   "name": "python3"
  },
  "language_info": {
   "codemirror_mode": {
    "name": "ipython",
    "version": 3
   },
   "file_extension": ".py",
   "mimetype": "text/x-python",
   "name": "python",
   "nbconvert_exporter": "python",
   "pygments_lexer": "ipython3",
   "version": "3.7.9"
  }
 },
 "nbformat": 4,
 "nbformat_minor": 4
}
