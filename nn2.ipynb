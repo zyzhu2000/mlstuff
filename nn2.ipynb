{
 "cells": [
  {
   "cell_type": "code",
   "execution_count": 22,
   "metadata": {},
   "outputs": [
    {
     "name": "stdout",
     "output_type": "stream",
     "text": [
      "The autoreload extension is already loaded. To reload it, use:\n",
      "  %reload_ext autoreload\n"
     ]
    }
   ],
   "source": [
    "%load_ext autoreload\n",
    "%autoreload 2\n",
    "\n",
    "from cd_ann3 import *"
   ]
  },
  {
   "cell_type": "code",
   "execution_count": 37,
   "metadata": {},
   "outputs": [],
   "source": [
    "def load(filename):\n",
    "    with open(filename, 'rb') as f:\n",
    "        return pkl.load(f)"
   ]
  },
  {
   "cell_type": "code",
   "execution_count": 19,
   "metadata": {},
   "outputs": [],
   "source": [
    "d = load('ga-pop.pkl')"
   ]
  },
  {
   "cell_type": "code",
   "execution_count": 20,
   "metadata": {},
   "outputs": [
    {
     "data": {
      "text/plain": [
       "(['pop_size'],\n",
       " {(400,): (NeuralNetwork(algorithm='genetic_alg', clip_max=1.5, curve=True,\n",
       "                 early_stopping=True, hidden_nodes=[6], learning_rate=1e-06,\n",
       "                 max_attempts=50, max_iters=400, pop_size=400, random_state=3),\n",
       "   0.6282066366521207,\n",
       "   0.6090946749359674),\n",
       "  (600,): (NeuralNetwork(algorithm='genetic_alg', clip_max=1.5, curve=True,\n",
       "                 early_stopping=True, hidden_nodes=[6], learning_rate=1e-06,\n",
       "                 max_attempts=50, max_iters=400, pop_size=600, random_state=3),\n",
       "   0.6698898257293371,\n",
       "   0.6646093791421188),\n",
       "  (800,): (NeuralNetwork(algorithm='genetic_alg', clip_max=1.5, curve=True,\n",
       "                 early_stopping=True, hidden_nodes=[6], learning_rate=1e-06,\n",
       "                 max_attempts=50, max_iters=400, pop_size=800, random_state=3),\n",
       "   0.645449324076357,\n",
       "   0.6310671383024602)})"
      ]
     },
     "execution_count": 20,
     "metadata": {},
     "output_type": "execute_result"
    }
   ],
   "source": [
    "d"
   ]
  },
  {
   "cell_type": "code",
   "execution_count": 32,
   "metadata": {},
   "outputs": [],
   "source": [
    "gd = train_gd(0.8e-5)"
   ]
  },
  {
   "cell_type": "code",
   "execution_count": 3,
   "metadata": {},
   "outputs": [],
   "source": [
    "rhc = train_rhc(learning_rate=0.45, restarts=10)"
   ]
  },
  {
   "cell_type": "code",
   "execution_count": 4,
   "metadata": {},
   "outputs": [],
   "source": [
    "sa = train_sa(T=1, decay=0.8)"
   ]
  },
  {
   "cell_type": "code",
   "execution_count": 42,
   "metadata": {},
   "outputs": [],
   "source": [
    "ga = train_ga(pop_size=300, max_iters=1000, clip_max=1.5, early_stopping=True)"
   ]
  },
  {
   "cell_type": "code",
   "execution_count": 49,
   "metadata": {},
   "outputs": [],
   "source": [
    "ga = load('ga200.pkl')"
   ]
  },
  {
   "cell_type": "code",
   "execution_count": 23,
   "metadata": {},
   "outputs": [],
   "source": [
    "ga = train_ga(pop_size=200, max_iters=3000, early_stopping=False)"
   ]
  },
  {
   "cell_type": "code",
   "execution_count": 45,
   "metadata": {},
   "outputs": [
    {
     "data": {
      "text/plain": [
       "(NeuralNetwork(algorithm='genetic_alg', clip_max=1.5, curve=True,\n",
       "               elite_dreg_ratio=None, hidden_nodes=[6], learning_rate=0.2,\n",
       "               max_iters=2000, mutation_prob=0.05, pop_size=300, random_state=3),\n",
       " 0.439330934915666,\n",
       " 0.437464841552597)"
      ]
     },
     "execution_count": 45,
     "metadata": {},
     "output_type": "execute_result"
    }
   ],
   "source": [
    "ga"
   ]
  },
  {
   "cell_type": "code",
   "execution_count": 50,
   "metadata": {},
   "outputs": [
    {
     "data": {
      "text/plain": [
       "0.42916363339427166"
      ]
     },
     "execution_count": 50,
     "metadata": {},
     "output_type": "execute_result"
    }
   ],
   "source": [
    "ga[0].fitness_curve[-1]"
   ]
  },
  {
   "cell_type": "code",
   "execution_count": 52,
   "metadata": {},
   "outputs": [
    {
     "data": {
      "text/plain": [
       "<matplotlib.legend.Legend at 0x1f5c38b3e08>"
      ]
     },
     "execution_count": 52,
     "metadata": {},
     "output_type": "execute_result"
    },
    {
     "data": {
      "image/png": "[encoded data removed]",
      "text/plain": [
       "<Figure size 432x288 with 1 Axes>"
      ]
     },
     "metadata": {
      "needs_background": "light"
     },
     "output_type": "display_data"
    }
   ],
   "source": [
    "plt.figure()\n",
    "plt.plot(-gd[0].fitness_curve, label='GD')\n",
    "#plt.plot(rhc[0].fitness_curve, label='RHC')\n",
    "#plt.plot(sa[0].fitness_curve, label='SA')\n",
    "plt.plot(ga[0].fitness_curve, label='GA')\n",
    "plt.ylim([0.4, 1.0])\n",
    "plt.legend()\n"
   ]
  },
  {
   "cell_type": "code",
   "execution_count": 100,
   "metadata": {},
   "outputs": [
    {
     "data": {
      "text/plain": [
       "(NeuralNetwork(curve=True, early_stopping=True, hidden_nodes=[6],\n",
       "               learning_rate=0.45, max_attempts=100, max_iters=1500,\n",
       "               random_state=3, restarts=10),\n",
       " 0.6783911644528836,\n",
       " 0.6749588281182283)"
      ]
     },
     "execution_count": 100,
     "metadata": {},
     "output_type": "execute_result"
    }
   ],
   "source": [
    "rhc"
   ]
  },
  {
   "cell_type": "code",
   "execution_count": 79,
   "metadata": {},
   "outputs": [
    {
     "data": {
      "text/plain": [
       "26.716102702331792"
      ]
     },
     "execution_count": 79,
     "metadata": {},
     "output_type": "execute_result"
    }
   ],
   "source": [
    "sum(gd[0].fitted_weights**2)\n"
   ]
  },
  {
   "cell_type": "code",
   "execution_count": 38,
   "metadata": {},
   "outputs": [
    {
     "data": {
      "text/plain": [
       "1.5205917197393413"
      ]
     },
     "execution_count": 38,
     "metadata": {},
     "output_type": "execute_result"
    }
   ],
   "source": [
    "max(gd[0].fitted_weights)"
   ]
  },
  {
   "cell_type": "code",
   "execution_count": 20,
   "metadata": {},
   "outputs": [
    {
     "data": {
      "text/plain": [
       "64.52546463001723"
      ]
     },
     "execution_count": 20,
     "metadata": {},
     "output_type": "execute_result"
    }
   ],
   "source": [
    "sum(ga[0].fitted_weights**2)"
   ]
  },
  {
   "cell_type": "code",
   "execution_count": 99,
   "metadata": {},
   "outputs": [
    {
     "data": {
      "text/plain": [
       "91.57042282884657"
      ]
     },
     "execution_count": 99,
     "metadata": {},
     "output_type": "execute_result"
    }
   ],
   "source": [
    "sum(sa[0].fitted_weights**2)"
   ]
  },
  {
   "cell_type": "code",
   "execution_count": 70,
   "metadata": {},
   "outputs": [
    {
     "data": {
      "text/plain": [
       "136.02201639465198"
      ]
     },
     "execution_count": 70,
     "metadata": {},
     "output_type": "execute_result"
    }
   ],
   "source": [
    "sum(rhc[0].fitted_weights**2)"
   ]
  },
  {
   "cell_type": "code",
   "execution_count": 34,
   "metadata": {},
   "outputs": [
    {
     "data": {
      "text/plain": [
       "(NeuralNetwork(algorithm='gradient_descent', clip_max=5, curve=True,\n",
       "               early_stopping=True, hidden_nodes=[6], learning_rate=8e-06,\n",
       "               max_attempts=100, max_iters=2000, random_state=3),\n",
       " 0.683993801095735,\n",
       " 0.683171136711555)"
      ]
     },
     "execution_count": 34,
     "metadata": {},
     "output_type": "execute_result"
    }
   ],
   "source": [
    "gd"
   ]
  },
  {
   "cell_type": "code",
   "execution_count": 16,
   "metadata": {},
   "outputs": [
    {
     "data": {
      "text/plain": [
       "(NeuralNetwork(algorithm='genetic_alg', clip_max=1.5, curve=True,\n",
       "               early_stopping=True, hidden_nodes=[6], learning_rate=0.2,\n",
       "               max_iters=1000, pop_size=600, random_state=3),\n",
       " 0.5423158191357755,\n",
       " 0.5396298914324036)"
      ]
     },
     "execution_count": 16,
     "metadata": {},
     "output_type": "execute_result"
    }
   ],
   "source": [
    "ga\n"
   ]
  },
  {
   "cell_type": "code",
   "execution_count": 10,
   "metadata": {},
   "outputs": [
    {
     "data": {
      "text/plain": [
       "(NeuralNetwork(clip_max=1.5, curve=True, early_stopping=True, hidden_nodes=[6],\n",
       "               learning_rate=0.45, max_attempts=100, max_iters=2000,\n",
       "               random_state=3, restarts=10),\n",
       " 0.673394118834455,\n",
       " 0.668135138289182)"
      ]
     },
     "execution_count": 10,
     "metadata": {},
     "output_type": "execute_result"
    }
   ],
   "source": [
    "rhc"
   ]
  },
  {
   "cell_type": "code",
   "execution_count": 11,
   "metadata": {},
   "outputs": [
    {
     "data": {
      "text/plain": [
       "(NeuralNetwork(algorithm='simulated_annealing', clip_max=1.5, curve=True,\n",
       "               early_stopping=True, hidden_nodes=[6], learning_rate=0.3,\n",
       "               max_attempts=100, max_iters=2000, random_state=8, restarts=10,\n",
       "               schedule=GeomDecay(init_temp=1, decay=0.8, min_temp=0.0001)),\n",
       " 0.6795888321145164,\n",
       " 0.6792565306268046)"
      ]
     },
     "execution_count": 11,
     "metadata": {},
     "output_type": "execute_result"
    }
   ],
   "source": [
    "sa"
   ]
  },
  {
   "cell_type": "code",
   "execution_count": 86,
   "metadata": {},
   "outputs": [
    {
     "data": {
      "text/plain": [
       "0.44542800797376625"
      ]
     },
     "execution_count": 86,
     "metadata": {},
     "output_type": "execute_result"
    }
   ],
   "source": [
    "sa[0].fitness_curve[-1]"
   ]
  },
  {
   "cell_type": "code",
   "execution_count": 87,
   "metadata": {},
   "outputs": [
    {
     "data": {
      "text/plain": [
       "0.4574224980498374"
      ]
     },
     "execution_count": 87,
     "metadata": {},
     "output_type": "execute_result"
    }
   ],
   "source": [
    "ga[0].fitness_curve[-1]"
   ]
  },
  {
   "cell_type": "code",
   "execution_count": 88,
   "metadata": {},
   "outputs": [
    {
     "data": {
      "text/plain": [
       "-0.45668276670272395"
      ]
     },
     "execution_count": 88,
     "metadata": {},
     "output_type": "execute_result"
    }
   ],
   "source": [
    "gd[0].fitness_curve[-1]"
   ]
  },
  {
   "cell_type": "code",
   "execution_count": 89,
   "metadata": {},
   "outputs": [
    {
     "data": {
      "text/plain": [
       "0.4291824523548031"
      ]
     },
     "execution_count": 89,
     "metadata": {},
     "output_type": "execute_result"
    }
   ],
   "source": [
    "rhc[0].fitness_curve[-1]"
   ]
  }
 ],
 "metadata": {
  "kernelspec": {
   "display_name": "Python 3",
   "language": "python",
   "name": "python3"
  },
  "language_info": {
   "codemirror_mode": {
    "name": "ipython",
    "version": 3
   },
   "file_extension": ".py",
   "mimetype": "text/x-python",
   "name": "python",
   "nbconvert_exporter": "python",
   "pygments_lexer": "ipython3",
   "version": "3.7.9"
  }
 },
 "nbformat": 4,
 "nbformat_minor": 4
}
